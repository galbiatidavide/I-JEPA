{
 "cells": [
  {
   "cell_type": "code",
   "execution_count": 8,
   "metadata": {},
   "outputs": [],
   "source": [
    "from torchvision.datasets import MNIST\n",
    "from torch.utils.data import DataLoader\n",
    "from torchvision import transforms\n",
    "\n",
    "transform = transforms.Compose([transforms.ToTensor(), \n",
    "                                #transforms.Normalize((0.1307,), (0.3081,)),\n",
    "                                ]) #flatten serve per convertire le immagini in vettori di 784 unità \n",
    "\n",
    "mnist_train = MNIST(root='mnist',train=True, download=True, transform=transform)\n",
    "mnist_test = MNIST(root='mnist',train=False, download=True, transform=transform)\n",
    "\n",
    "\n",
    "mnist_train_loader = DataLoader(mnist_train, batch_size=512, num_workers=2, shuffle=True)\n",
    "mnist_test_loader = DataLoader(mnist_test, batch_size=512, num_workers=2)"
   ]
  },
  {
   "cell_type": "code",
   "execution_count": 9,
   "metadata": {},
   "outputs": [],
   "source": [
    "import matplotlib.pyplot as plt\n",
    "import numpy as np\n",
    "import torch\n",
    "import torch.nn as nn\n",
    "import torch.nn.functional as F\n",
    "from tqdm import tqdm\n",
    "from pytorch_lightning.loggers import TensorBoardLogger\n",
    "from torchvision.utils import make_grid\n",
    "from classes import *\n",
    "from torch.optim import Adam"
   ]
  },
  {
   "cell_type": "code",
   "execution_count": 10,
   "metadata": {},
   "outputs": [],
   "source": [
    "# # Define training function\n",
    "# encoder = torch.load('vitFashion16_encoder.pth')\n",
    "# def train_mae(model, dataloader, optimizer, num_epochs=20, device='mps'):\n",
    "#     model.to(device)\n",
    "#     model.train()\n",
    "    \n",
    "#     for epoch in range(num_epochs):\n",
    "#         total_loss = 0\n",
    "#         for data in dataloader:\n",
    "#             img, label = data\n",
    "#             img = img.to(device)\n",
    "#             optimizer.zero_grad()\n",
    "#             loss, _ , _ = model(img)\n",
    "#             loss.backward()\n",
    "#             optimizer.step()\n",
    "            \n",
    "#             total_loss += loss.item()\n",
    "\n",
    "#         avg_loss = total_loss / len(dataloader)\n",
    "#         print(f'Epoch [{epoch+1}/{num_epochs}], Loss: {avg_loss:.4f}')\n",
    "\n",
    "# # Initialize the MAE model\n",
    "# # Assume 'encoder' is your pre-trained vision transformer model\n",
    "# mae_model = MAE(\n",
    "#     encoder=encoder,\n",
    "#     decoder_dim=512,\n",
    "#     masking_ratio=0.25,\n",
    "#     decoder_depth=1,\n",
    "#     decoder_heads=8,\n",
    "#     decoder_dim_head=64\n",
    "# )\n",
    "\n",
    "# # Data transformations\n",
    "# transform = transforms.Compose([\n",
    "#     transforms.ToTensor(),\n",
    "#     transforms.Normalize((0.5,), (0.5,))\n",
    "# ])\n",
    "\n",
    "\n",
    "# # Define the optimizer\n",
    "# optimizer = Adam(mae_model.parameters(), lr=1e-4)\n",
    "\n",
    "# # Train the model\n",
    "# train_mae(mae_model, mnist_train_loader, optimizer, num_epochs=20, device='mps')\n"
   ]
  },
  {
   "cell_type": "code",
   "execution_count": 11,
   "metadata": {},
   "outputs": [],
   "source": [
    "model = torch.load('mae_model_digits.pth')"
   ]
  },
  {
   "cell_type": "code",
   "execution_count": 15,
   "metadata": {},
   "outputs": [
    {
     "data": {
      "image/png": "[encoded data removed]",
      "text/plain": [
       "<Figure size 640x480 with 1 Axes>"
      ]
     },
     "metadata": {},
     "output_type": "display_data"
    },
    {
     "data": {
      "image/png": "[encoded data removed]",
      "text/plain": [
       "<Figure size 2000x400 with 8 Axes>"
      ]
     },
     "metadata": {},
     "output_type": "display_data"
    }
   ],
   "source": [
    "model.eval()\n",
    "device = torch.device('mps')\n",
    "\n",
    "\n",
    "img = mnist_test[0][0].unsqueeze(0)\n",
    "img = img.to(device)\n",
    "pred_loss, pred_patch, masked = model(img)\n",
    "last_image = img\n",
    "\n",
    "#plot last image\n",
    "plt.imshow(last_image[0].cpu().numpy().reshape((28, 28)), cmap='gray')\n",
    "plt.axis('off')\n",
    "plt.show()\n",
    "\n",
    "\n",
    "import matplotlib.pyplot as plt\n",
    "import numpy as np\n",
    "\n",
    "fig, axs = plt.subplots(2, 4, figsize=(20, 4))\n",
    "\n",
    "for i in range(4):\n",
    "    img = masked[0][i]\n",
    "    loss_imgs = pred_patch[0][i]\n",
    "    img = img.to(device)\n",
    "\n",
    "\n",
    "    axs[0, i].imshow(img.cpu().numpy().reshape((7, 7)), cmap='gray')\n",
    "    axs[0, i].axis('off')\n",
    "    axs[0, i].set_title('Original Image')\n",
    "\n",
    "    axs[1, i].imshow(loss_imgs.cpu().detach().numpy().reshape((7,7)), cmap='gray')\n",
    "    axs[1, i].axis('off')\n",
    "    axs[1, i].set_title('Reconstructed Image')\n",
    "\n",
    "plt.show()\n"
   ]
  }
 ],
 "metadata": {
  "kernelspec": {
   "display_name": "pytorch-env",
   "language": "python",
   "name": "python3"
  },
  "language_info": {
   "codemirror_mode": {
    "name": "ipython",
    "version": 3
   },
   "file_extension": ".py",
   "mimetype": "text/x-python",
   "name": "python",
   "nbconvert_exporter": "python",
   "pygments_lexer": "ipython3",
   "version": "3.10.12"
  }
 },
 "nbformat": 4,
 "nbformat_minor": 2
}
